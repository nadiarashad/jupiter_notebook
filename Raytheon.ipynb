{
 "cells": [
  {
   "cell_type": "markdown",
   "metadata": {},
   "source": [
    "# Raytheon Technical Challenge\n",
    "\n",
    "\n",
    "### The challenge was to create a programme displaying all prime numbers between 1 and 100\n",
    "\n",
    "### The below table displays the considerations and what I did in response.\n",
    "\n",
    "|Instruction | Response  |\n",
    "|:---------|:---------|\n",
    "|   How would a new user know how to clone and run your code? | I created a read me file which included a step by step instruction guide explaining how to clone and run my repository|\n",
    "|   Prevention of committing of secrets and IDE artefacts to your repository.  | Although the repository is public, I have not set any collaborators, therefore no other person can contribute to the repository|\n",
    "|   Speed of algorithm  | I used a few different types of functions and finally set on using Sive of Eratosthenes, there are faster sieves available however I felt this is one I could explain the code for.<br><br> I tested the speed of the algorithm using '%%time' which displayed the 'Wall time' allowing me to compare the speeds of different functions |\n",
    "|   Display output  | I used Jupyter Notebook which allowed me to display markdown as well as code in the same document. Jupyter Notebook also used CSS, so I was able to display a grid of the prime numbers as well as using the ipywidget to display a more visually appealing list |\n",
    "|   Protecting your own personal information e.g birthdates, photos etc.)  |  I used the getpass module which prompts the user for a password before displaying the output data. <br><br>I also used the cryptography package which uses symmetric encryption (one key for multiple users) to encrypt a file which could contain passwords and other sensitive content |\n",
    "\n"
   ]
  },
  {
   "cell_type": "markdown",
   "metadata": {},
   "source": [
    "### The below of code displays the getpass module which prompts teh use for a password before they can see the output data.\n",
    "\n",
    "### The output data here is displayed as a list"
   ]
  },
  {
   "cell_type": "code",
   "execution_count": 3,
   "metadata": {},
   "outputs": [
    {
     "name": "stdout",
     "output_type": "stream",
     "text": [
      "\n",
      "Please enter password for User Name : nadia\n",
      "········\n",
      "Welcome, here is the data you were looking for!\n",
      "\n",
      "Prime numbers between 1 and 100 are:\n",
      "\n",
      "2\n",
      "3\n",
      "5\n",
      "7\n",
      "11\n",
      "13\n",
      "17\n",
      "19\n",
      "23\n",
      "29\n",
      "31\n",
      "37\n",
      "41\n",
      "43\n",
      "47\n",
      "53\n",
      "59\n",
      "61\n",
      "67\n",
      "71\n",
      "73\n",
      "79\n",
      "83\n",
      "89\n",
      "97\n"
     ]
    }
   ],
   "source": [
    "import getpass\n",
    "\n",
    "\n",
    "# this section protects the data with a password\n",
    "user = getpass.getuser() #takes the users name and assigns it to a variable \n",
    "  \n",
    "while True: \n",
    "    pwd = getpass.getpass(\"\\nPlease enter password for User Name : %s\\n\" % user) \n",
    "  \n",
    "    if pwd == 'abcd': \n",
    "        print (\"Welcome, here is the data you were looking for!\\n\")\n",
    "        break\n",
    "    else: \n",
    "        print (\"The password you entered is incorrect, please try again.\\n\")\n",
    "        \n",
    " \n",
    "\n",
    "\n",
    "    #function to obtain all of the prime numbers and prints as a list      \n",
    "def SieveOfEratosthenes(n): \n",
    "    \n",
    "    print(\"Prime numbers between\", 1, \"and\", 100, \"are:\\n\")\n",
    "      \n",
    "    # Create a boolean array and initialize \n",
    "    # all entries will always be true. A value in prime[i] will finally be false if i is Not a prime. \n",
    "    \n",
    "    prime = [True for i in range(n + 1)] \n",
    "    p = 2                       #as this is the first prime number\n",
    "    global primes               #declaring a global variable as it will be used outside of this function\n",
    "    primes = []                 #an array to append all of the prime numbers so I can create a grid later\n",
    "    \n",
    "    #loop through range starting from p2, count up in increments of p and mark each of \n",
    "    # these numbers greater than or equal to p2 itself in the list, this will mark anything that is not a prime number\n",
    "   \n",
    "    while (p * p <= n): \n",
    "          \n",
    "        # If prime[p] is not changed, then it is a prime \n",
    "        if (prime[p] == True):          #so this is all of the numbers as we have marked them as true\n",
    "              \n",
    "            \n",
    "             # foor loop to update all multiples of p as these will not be prime numbers\n",
    "            for i in range(p * 2, n + 1, p): \n",
    "                prime[i] = False\n",
    "        p += 1\n",
    "    prime[0]= False\n",
    "    prime[1]= False\n",
    "   \n",
    "   \n",
    "    #append the prime number as a string to the primes array, converted the number to a \n",
    "    #string so that the data can be manipulated into a grid/ buttons\n",
    "    for p in range(n + 1): \n",
    "        if prime[p]: \n",
    "           \n",
    "            primes.append(str(p)) \n",
    "            print(p)\n",
    "           \n",
    "\n",
    "\n",
    "    #invoking of the function with 100 as an argument as it is the range integer            \n",
    "SieveOfEratosthenes(100)\n",
    "\n",
    "\n"
   ]
  },
  {
   "cell_type": "markdown",
   "metadata": {},
   "source": [
    "### This code prints the outcome as a grid"
   ]
  },
  {
   "cell_type": "code",
   "execution_count": 7,
   "metadata": {},
   "outputs": [
    {
     "name": "stdout",
     "output_type": "stream",
     "text": [
      "Prime numbers between 1 and 100 are:\n",
      "\n",
      "| 2\t|3\t|5\t|7\t|11\n",
      "|13\t|17\t|19\t|23\t|29\n",
      "|31\t|37\t|41\t|43\t|47\n",
      "|53\t|59\t|61\t|67\t|71\n",
      "|73\t|79\t|83\t|89\t|97\n",
      "\n"
     ]
    }
   ],
   "source": [
    "def SieveOfEratosthenes(n): \n",
    "    \n",
    "    print(\"Prime numbers between\", 1, \"and\", 100, \"are:\\n\")\n",
    "  \n",
    "    \n",
    "    prime = [True for i in range(n + 1)] \n",
    "    p = 2                       \n",
    "    global primes               \n",
    "    primes = []                 \n",
    "    \n",
    "    while (p * p <= n): \n",
    "             \n",
    "        if (prime[p] == True):        \n",
    "              \n",
    "          \n",
    "            for i in range(p * 2, n + 1, p): \n",
    "                prime[i] = False\n",
    "        p += 1\n",
    "    prime[0]= False\n",
    "    prime[1]= False\n",
    "\n",
    "    for p in range(n + 1): \n",
    "        if prime[p]: \n",
    "           \n",
    "            primes.append(str(p)) \n",
    "\n",
    "\n",
    "            \n",
    "SieveOfEratosthenes(100)\n",
    "\n",
    "\n",
    "\n",
    "def printGrid (numsPerRow, primes):\n",
    "    copyL = primes[:] #copies the prime number array to the original is not mutated\n",
    "    numsInRow = 1\n",
    "    for i in range(len(primes)):\n",
    "        \n",
    "        if numsInRow % numsPerRow == 0:  #if 5 remainder the numbers which are already in the row equal 0,  \n",
    "                                         # start a new line\n",
    "            copyL[i] = copyL[i] + \"\\n\"\n",
    "            numsInRow = 1\n",
    "        else:\n",
    "            copyL[i] = copyL[i] + \"\\t\" #add another number to the row \n",
    "            numsInRow += 1\n",
    "    return copyL\n",
    "\n",
    "print(\"|\", \"|\".join(printGrid(5, primes)))\n",
    "\n"
   ]
  },
  {
   "cell_type": "markdown",
   "metadata": {},
   "source": [
    "### This code prints the outcome as a ipywidget box"
   ]
  },
  {
   "cell_type": "code",
   "execution_count": 6,
   "metadata": {},
   "outputs": [
    {
     "name": "stdout",
     "output_type": "stream",
     "text": [
      "Prime numbers between 1 and 100 are:\n",
      "\n"
     ]
    },
    {
     "data": {
      "application/vnd.jupyter.widget-view+json": {
       "model_id": "ca2350f715c241b0a12449b4c90d5e58",
       "version_major": 2,
       "version_minor": 0
      },
      "text/plain": [
       "Box(children=(Button(button_style='warning', description='2', layout=Layout(width='auto'), style=ButtonStyle()…"
      ]
     },
     "metadata": {},
     "output_type": "display_data"
    }
   ],
   "source": [
    "from ipywidgets import Layout, Button, Box, GridspecLayout\n",
    "\n",
    "def SieveOfEratosthenes(n): \n",
    "    \n",
    "    print(\"Prime numbers between\", 1, \"and\", 100, \"are:\\n\")\n",
    "  \n",
    "    \n",
    "    prime = [True for i in range(n + 1)] \n",
    "    p = 2                       \n",
    "    global primes               \n",
    "    primes = []                 \n",
    "    \n",
    "    while (p * p <= n): \n",
    "             \n",
    "        if (prime[p] == True):        \n",
    "              \n",
    "          \n",
    "            for i in range(p * 2, n + 1, p): \n",
    "                prime[i] = False\n",
    "        p += 1\n",
    "    prime[0]= False\n",
    "    prime[1]= False\n",
    "\n",
    "    for p in range(n + 1): \n",
    "        if prime[p]: \n",
    "           \n",
    "            primes.append(str(p)) \n",
    "\n",
    "\n",
    "            \n",
    "SieveOfEratosthenes(100)\n",
    "\n",
    "items_layout = Layout( width='auto')     # override the default width of the button to 'auto' to let \n",
    "                                         # the button grow\n",
    "\n",
    "box_layout = Layout(display='flex',\n",
    "                    flex_flow='column',\n",
    "                    border='solid',\n",
    "                    width='15%')\n",
    "\n",
    "\n",
    "items = [Button(description=integer, layout=items_layout, button_style='warning') for integer in primes]\n",
    "box = Box(children=items, layout=box_layout)\n",
    "box"
   ]
  },
  {
   "cell_type": "markdown",
   "metadata": {},
   "source": [
    "### This code adds encryption to the file and then decrypts the file again. \n",
    "\n",
    "### You can see the results from the encrypted and decrypted bytes in the \"passwords.txtencrypted\" and \"passwords.txtdecrypted\" documents"
   ]
  },
  {
   "cell_type": "code",
   "execution_count": 48,
   "metadata": {},
   "outputs": [
    {
     "name": "stdout",
     "output_type": "stream",
     "text": [
      "CPU times: user 2.86 ms, sys: 300 µs, total: 3.16 ms\n",
      "Wall time: 5.16 ms\n"
     ]
    }
   ],
   "source": [
    "from cryptography.fernet import Fernet\n",
    "\n",
    "#Fernet guarantees that a message encrypted using it cannot be manipulated or read without the key. \n",
    "#Fernet is an implementation of symmetric (also known as “secret key”) authenticated cryptography.\n",
    "#key = Fernet.generate_key()  # this generates the key\n",
    "#fkey.write(key)  #we have written the key to the passwords file \n",
    "\n",
    "fkey = open(\"file_key.txt\", \"rb\")   #open() function returns a file object, which has a read() \n",
    "                                    #method for reading the content of the file\n",
    "key = fkey.read()\n",
    "cipher = Fernet(key)\n",
    "filename=\"passwords.txt\"\n",
    "with open(filename, \"rb\")as f:    #rb is read bytes\n",
    "    e_file = f.read()             #assigning contents of the file to a new variable\n",
    "encrypted_file = cipher.encrypt(e_file)     # file is now encrypted >> A secure message that cannot \n",
    "                                            #be read or altered without the key.\n",
    "\n",
    "with open(filename + \"encrypted\", \"wb\")as ef:  #wb is write bytes\n",
    "    ef.write(encrypted_file)                   #write the encrypted content to a new document \n",
    "\n"
   ]
  },
  {
   "cell_type": "markdown",
   "metadata": {},
   "source": [
    "### Thank you for taking the time to go through this document, Nadia."
   ]
  }
 ],
 "metadata": {
  "kernelspec": {
   "display_name": "Python 3",
   "language": "python",
   "name": "python3"
  },
  "language_info": {
   "codemirror_mode": {
    "name": "ipython",
    "version": 3
   },
   "file_extension": ".py",
   "mimetype": "text/x-python",
   "name": "python",
   "nbconvert_exporter": "python",
   "pygments_lexer": "ipython3",
   "version": "3.7.0"
  },
  "widgets": {
   "application/vnd.jupyter.widget-state+json": {
    "state": {
     "00f82a9bf41b4d0bace3e64b8df5ac22": {
      "model_module": "@jupyter-widgets/controls",
      "model_module_version": "1.5.0",
      "model_name": "ButtonModel",
      "state": {
       "button_style": "warning",
       "description": "79",
       "layout": "IPY_MODEL_f3baca44af1a4d79b558686a3e17b6d2",
       "style": "IPY_MODEL_4951e3bac9394e08923bb5528bc84c7d"
      }
     },
     "011ff4e3126f4d09bd17fa68af3e6ceb": {
      "model_module": "@jupyter-widgets/base",
      "model_module_version": "1.2.0",
      "model_name": "LayoutModel",
      "state": {
       "border": "solid",
       "display": "flex",
       "flex_flow": "column",
       "width": "15%"
      }
     },
     "029c9848e4654d82a2f02b701025c8a3": {
      "model_module": "@jupyter-widgets/controls",
      "model_module_version": "1.5.0",
      "model_name": "ButtonStyleModel",
      "state": {}
     },
     "03a20540eaff4476867ae44db1447000": {
      "model_module": "@jupyter-widgets/controls",
      "model_module_version": "1.5.0",
      "model_name": "ButtonStyleModel",
      "state": {}
     },
     "041f934575544ebcaf5a932eda8bd54c": {
      "model_module": "@jupyter-widgets/controls",
      "model_module_version": "1.5.0",
      "model_name": "ButtonModel",
      "state": {
       "button_style": "warning",
       "description": "7",
       "layout": "IPY_MODEL_9765d4c8f1ef4da59e8ed383b3d82e31",
       "style": "IPY_MODEL_61840b437d9a4e7f91eda2a0d80f9d74"
      }
     },
     "04cbeaf4327249cfbdbcbb90bad1a2cc": {
      "model_module": "@jupyter-widgets/controls",
      "model_module_version": "1.5.0",
      "model_name": "ButtonModel",
      "state": {
       "button_style": "warning",
       "description": "83",
       "layout": "IPY_MODEL_146a19f9fd6c4c6eaf2fb59a2a8a02a5",
       "style": "IPY_MODEL_98063c296a51434599020a8646fc9b0c"
      }
     },
     "04e350275f9d4e88ac05b4132667e5a8": {
      "model_module": "@jupyter-widgets/controls",
      "model_module_version": "1.5.0",
      "model_name": "ButtonModel",
      "state": {
       "button_style": "warning",
       "description": "43",
       "layout": "IPY_MODEL_f3baca44af1a4d79b558686a3e17b6d2",
       "style": "IPY_MODEL_97fe59d9b9994fe7becaa9e255c8ca2a"
      }
     },
     "05dbf0f79eb8433480346a31704df9ca": {
      "model_module": "@jupyter-widgets/controls",
      "model_module_version": "1.5.0",
      "model_name": "ButtonStyleModel",
      "state": {}
     },
     "06cc47b9f6b54ddc921cff156de6a168": {
      "model_module": "@jupyter-widgets/controls",
      "model_module_version": "1.5.0",
      "model_name": "ButtonModel",
      "state": {
       "button_style": "warning",
       "description": "53",
       "layout": "IPY_MODEL_146a19f9fd6c4c6eaf2fb59a2a8a02a5",
       "style": "IPY_MODEL_2f8ff847ab1c43a997b0bc23ea07ec05"
      }
     },
     "0b0d4809d1a0440187cefb8a486d0efd": {
      "model_module": "@jupyter-widgets/controls",
      "model_module_version": "1.5.0",
      "model_name": "ButtonModel",
      "state": {
       "button_style": "warning",
       "description": "47",
       "layout": "IPY_MODEL_146a19f9fd6c4c6eaf2fb59a2a8a02a5",
       "style": "IPY_MODEL_e9c09b81fbb448c58b2fd0897a4d1254"
      }
     },
     "0dc7c87cd9ba405cadc4078ddf0904e1": {
      "model_module": "@jupyter-widgets/controls",
      "model_module_version": "1.5.0",
      "model_name": "ButtonModel",
      "state": {
       "button_style": "warning",
       "description": "73",
       "layout": "IPY_MODEL_146a19f9fd6c4c6eaf2fb59a2a8a02a5",
       "style": "IPY_MODEL_fa59db63b72b4be280ba8164ed961020"
      }
     },
     "146a19f9fd6c4c6eaf2fb59a2a8a02a5": {
      "model_module": "@jupyter-widgets/base",
      "model_module_version": "1.2.0",
      "model_name": "LayoutModel",
      "state": {
       "width": "auto"
      }
     },
     "157f6f6ef08b4f829b6793dfdcbe6ace": {
      "model_module": "@jupyter-widgets/controls",
      "model_module_version": "1.5.0",
      "model_name": "ButtonStyleModel",
      "state": {}
     },
     "16027d015b224ef884210c767e72936b": {
      "model_module": "@jupyter-widgets/controls",
      "model_module_version": "1.5.0",
      "model_name": "ButtonModel",
      "state": {
       "button_style": "warning",
       "description": "29",
       "layout": "IPY_MODEL_9765d4c8f1ef4da59e8ed383b3d82e31",
       "style": "IPY_MODEL_b862b512a82c4a7988cf38977c704b01"
      }
     },
     "160d7f74402842f88ab9513f2fc9576b": {
      "model_module": "@jupyter-widgets/controls",
      "model_module_version": "1.5.0",
      "model_name": "ButtonStyleModel",
      "state": {}
     },
     "16115c3831b14480b8a0eab671e023ea": {
      "model_module": "@jupyter-widgets/controls",
      "model_module_version": "1.5.0",
      "model_name": "ButtonModel",
      "state": {
       "button_style": "warning",
       "description": "53",
       "layout": "IPY_MODEL_9765d4c8f1ef4da59e8ed383b3d82e31",
       "style": "IPY_MODEL_f3a3eebdabee43f98756f5ca9506b344"
      }
     },
     "1823d83606e04f31998cac9b15e74024": {
      "model_module": "@jupyter-widgets/controls",
      "model_module_version": "1.5.0",
      "model_name": "ButtonModel",
      "state": {
       "button_style": "warning",
       "description": "89",
       "layout": "IPY_MODEL_146a19f9fd6c4c6eaf2fb59a2a8a02a5",
       "style": "IPY_MODEL_3f84fc014a714dae9594fd23ba752b42"
      }
     },
     "19ae786c8fd54d5a9a7c5326eabbdd40": {
      "model_module": "@jupyter-widgets/controls",
      "model_module_version": "1.5.0",
      "model_name": "ButtonModel",
      "state": {
       "button_style": "warning",
       "description": "31",
       "layout": "IPY_MODEL_9765d4c8f1ef4da59e8ed383b3d82e31",
       "style": "IPY_MODEL_029c9848e4654d82a2f02b701025c8a3"
      }
     },
     "19fbe4533d73466ebdaa339bb8b2ed51": {
      "model_module": "@jupyter-widgets/controls",
      "model_module_version": "1.5.0",
      "model_name": "ButtonModel",
      "state": {
       "button_style": "warning",
       "description": "31",
       "layout": "IPY_MODEL_f3baca44af1a4d79b558686a3e17b6d2",
       "style": "IPY_MODEL_56cbdba49e8a4fa786628d4e4f62529c"
      }
     },
     "1a13f37a54734769b25aac6db90501e8": {
      "model_module": "@jupyter-widgets/controls",
      "model_module_version": "1.5.0",
      "model_name": "ButtonStyleModel",
      "state": {}
     },
     "1bf32719f3694bfc92c85f67d1db7113": {
      "model_module": "@jupyter-widgets/controls",
      "model_module_version": "1.5.0",
      "model_name": "ButtonStyleModel",
      "state": {}
     },
     "1cf4019b93b94f82873cdc9ed4394026": {
      "model_module": "@jupyter-widgets/controls",
      "model_module_version": "1.5.0",
      "model_name": "ButtonModel",
      "state": {
       "button_style": "warning",
       "description": "2",
       "layout": "IPY_MODEL_146a19f9fd6c4c6eaf2fb59a2a8a02a5",
       "style": "IPY_MODEL_e1d7715c8a8b48a88fa813c0a4f4f660"
      }
     },
     "1dfbd22632e0436587621641d9cb5180": {
      "model_module": "@jupyter-widgets/controls",
      "model_module_version": "1.5.0",
      "model_name": "ButtonModel",
      "state": {
       "button_style": "warning",
       "description": "17",
       "layout": "IPY_MODEL_146a19f9fd6c4c6eaf2fb59a2a8a02a5",
       "style": "IPY_MODEL_309d12c036bf4d02a732bfcfe66e78ba"
      }
     },
     "2089446661fa48b3b8a5f93b13c4b45f": {
      "model_module": "@jupyter-widgets/controls",
      "model_module_version": "1.5.0",
      "model_name": "ButtonModel",
      "state": {
       "button_style": "warning",
       "description": "29",
       "layout": "IPY_MODEL_146a19f9fd6c4c6eaf2fb59a2a8a02a5",
       "style": "IPY_MODEL_160d7f74402842f88ab9513f2fc9576b"
      }
     },
     "20fd261e4e87443f93f0dc15fcf21572": {
      "model_module": "@jupyter-widgets/controls",
      "model_module_version": "1.5.0",
      "model_name": "ButtonStyleModel",
      "state": {}
     },
     "2154a4874d2f4457b7053aaade5b1d0f": {
      "model_module": "@jupyter-widgets/controls",
      "model_module_version": "1.5.0",
      "model_name": "BoxModel",
      "state": {
       "children": [
        "IPY_MODEL_8e7149b3847a4478819bd41736ac6f00",
        "IPY_MODEL_76d95e22bfc24eada2c0481fc693bb9c",
        "IPY_MODEL_9af1dc21895c41318c369a11e4ab62d3",
        "IPY_MODEL_041f934575544ebcaf5a932eda8bd54c",
        "IPY_MODEL_2b60335b9ea346ea985e88f40ba28da9",
        "IPY_MODEL_e17e2c41c4664165a1a7d4d4c0a015ab",
        "IPY_MODEL_665a2db0ce304717aed004c7ac833965",
        "IPY_MODEL_be564320c3da48dfb60a7f98de52a44c",
        "IPY_MODEL_927611e74adb49e5a3e3dee3b01ac6ce",
        "IPY_MODEL_16027d015b224ef884210c767e72936b",
        "IPY_MODEL_19ae786c8fd54d5a9a7c5326eabbdd40",
        "IPY_MODEL_aad7e3936003455fba1042daa3c7e5cf",
        "IPY_MODEL_efe5f6180db54942bdf75ed743ae0090",
        "IPY_MODEL_f2828f295ca44c12a2a29a172e1a23f2",
        "IPY_MODEL_4ab6635182ab413a97962b96096b7d64",
        "IPY_MODEL_16115c3831b14480b8a0eab671e023ea",
        "IPY_MODEL_da992ffa086b4008bf855958ad81d1e8",
        "IPY_MODEL_fd05803b6cf04c4591524f81fabacf99",
        "IPY_MODEL_986e10d45a4c4f97b2d88abaf426c111",
        "IPY_MODEL_7245ee475e33427cb9bf7f8c88a7d3cd",
        "IPY_MODEL_9ebb1600f1de4194906d270b576a628f",
        "IPY_MODEL_a185739490e947c09530cd6c13321e62",
        "IPY_MODEL_4c8605a6c9b44d08855005683d006cea",
        "IPY_MODEL_e04fd74787ad4bfaadd4c39368d98af1",
        "IPY_MODEL_c1b35c908cbc4c1cbacf7d9ae0938346"
       ],
       "layout": "IPY_MODEL_d347a80fb4cb4928b752e81a3bb0e31c"
      }
     },
     "224d183ed802459da9d3dec201d8e9e0": {
      "model_module": "@jupyter-widgets/controls",
      "model_module_version": "1.5.0",
      "model_name": "ButtonModel",
      "state": {
       "button_style": "warning",
       "description": "37",
       "layout": "IPY_MODEL_146a19f9fd6c4c6eaf2fb59a2a8a02a5",
       "style": "IPY_MODEL_8b14fc44f4bb4140a0644aa74d58fa54"
      }
     },
     "2270f7411938440188a909f0b056f675": {
      "model_module": "@jupyter-widgets/controls",
      "model_module_version": "1.5.0",
      "model_name": "ButtonStyleModel",
      "state": {}
     },
     "2329daf3a48d4c6a925fba7a805d5aeb": {
      "model_module": "@jupyter-widgets/controls",
      "model_module_version": "1.5.0",
      "model_name": "ButtonStyleModel",
      "state": {}
     },
     "25c99537b45641e4bf648f1e358ddef8": {
      "model_module": "@jupyter-widgets/controls",
      "model_module_version": "1.5.0",
      "model_name": "ButtonModel",
      "state": {
       "button_style": "warning",
       "description": "5",
       "layout": "IPY_MODEL_146a19f9fd6c4c6eaf2fb59a2a8a02a5",
       "style": "IPY_MODEL_a5f5571016be464f968d4f0359753ae4"
      }
     },
     "263b418a6d184798b2e8c798632bfaa0": {
      "model_module": "@jupyter-widgets/controls",
      "model_module_version": "1.5.0",
      "model_name": "ButtonStyleModel",
      "state": {}
     },
     "268e167ca96a4e359a9adce8359716df": {
      "model_module": "@jupyter-widgets/controls",
      "model_module_version": "1.5.0",
      "model_name": "ButtonModel",
      "state": {
       "button_style": "warning",
       "description": "83",
       "layout": "IPY_MODEL_f3baca44af1a4d79b558686a3e17b6d2",
       "style": "IPY_MODEL_734ecccea1e14f859c6dbbb041b567fe"
      }
     },
     "27a71109fe17478baad8016a341e980f": {
      "model_module": "@jupyter-widgets/controls",
      "model_module_version": "1.5.0",
      "model_name": "ButtonStyleModel",
      "state": {}
     },
     "2833863e4ce949f4a4ee09d4e638e957": {
      "model_module": "@jupyter-widgets/controls",
      "model_module_version": "1.5.0",
      "model_name": "ButtonStyleModel",
      "state": {}
     },
     "2a8dc617b3324027bcd2a5e4ce763cc1": {
      "model_module": "@jupyter-widgets/controls",
      "model_module_version": "1.5.0",
      "model_name": "ButtonModel",
      "state": {
       "button_style": "warning",
       "description": "29",
       "layout": "IPY_MODEL_f3baca44af1a4d79b558686a3e17b6d2",
       "style": "IPY_MODEL_2ea3895a8fe44305be7597061e666a3b"
      }
     },
     "2b60335b9ea346ea985e88f40ba28da9": {
      "model_module": "@jupyter-widgets/controls",
      "model_module_version": "1.5.0",
      "model_name": "ButtonModel",
      "state": {
       "button_style": "warning",
       "description": "11",
       "layout": "IPY_MODEL_9765d4c8f1ef4da59e8ed383b3d82e31",
       "style": "IPY_MODEL_03a20540eaff4476867ae44db1447000"
      }
     },
     "2e109d240ea74ab6a8927e85e2d8da30": {
      "model_module": "@jupyter-widgets/controls",
      "model_module_version": "1.5.0",
      "model_name": "ButtonStyleModel",
      "state": {}
     },
     "2ea3895a8fe44305be7597061e666a3b": {
      "model_module": "@jupyter-widgets/controls",
      "model_module_version": "1.5.0",
      "model_name": "ButtonStyleModel",
      "state": {}
     },
     "2f8ff847ab1c43a997b0bc23ea07ec05": {
      "model_module": "@jupyter-widgets/controls",
      "model_module_version": "1.5.0",
      "model_name": "ButtonStyleModel",
      "state": {}
     },
     "309d12c036bf4d02a732bfcfe66e78ba": {
      "model_module": "@jupyter-widgets/controls",
      "model_module_version": "1.5.0",
      "model_name": "ButtonStyleModel",
      "state": {}
     },
     "324627f2ae5648f585ed701a167870c1": {
      "model_module": "@jupyter-widgets/controls",
      "model_module_version": "1.5.0",
      "model_name": "ButtonModel",
      "state": {
       "button_style": "warning",
       "description": "7",
       "layout": "IPY_MODEL_146a19f9fd6c4c6eaf2fb59a2a8a02a5",
       "style": "IPY_MODEL_ca9e32b246de4d5d9cbd1f460f2b94cb"
      }
     },
     "33374546d6ea416d849de8a7a204a867": {
      "model_module": "@jupyter-widgets/controls",
      "model_module_version": "1.5.0",
      "model_name": "ButtonModel",
      "state": {
       "button_style": "warning",
       "description": "19",
       "layout": "IPY_MODEL_146a19f9fd6c4c6eaf2fb59a2a8a02a5",
       "style": "IPY_MODEL_81d98ace39734ea889126f9c45fd29c6"
      }
     },
     "351e6a7096be4ceba44c4064a999a41a": {
      "model_module": "@jupyter-widgets/controls",
      "model_module_version": "1.5.0",
      "model_name": "ButtonStyleModel",
      "state": {}
     },
     "35a3f178e6914426a798246a8ea84661": {
      "model_module": "@jupyter-widgets/controls",
      "model_module_version": "1.5.0",
      "model_name": "ButtonStyleModel",
      "state": {}
     },
     "38f6877424464315a59271c58ae3473e": {
      "model_module": "@jupyter-widgets/controls",
      "model_module_version": "1.5.0",
      "model_name": "ButtonStyleModel",
      "state": {}
     },
     "3b666c77fb364f28b836ad59b68a5ee4": {
      "model_module": "@jupyter-widgets/controls",
      "model_module_version": "1.5.0",
      "model_name": "ButtonModel",
      "state": {
       "button_style": "warning",
       "description": "61",
       "layout": "IPY_MODEL_f3baca44af1a4d79b558686a3e17b6d2",
       "style": "IPY_MODEL_27a71109fe17478baad8016a341e980f"
      }
     },
     "3f84fc014a714dae9594fd23ba752b42": {
      "model_module": "@jupyter-widgets/controls",
      "model_module_version": "1.5.0",
      "model_name": "ButtonStyleModel",
      "state": {}
     },
     "40b1e396e2974cc0914cc95236ff6d68": {
      "model_module": "@jupyter-widgets/controls",
      "model_module_version": "1.5.0",
      "model_name": "ButtonStyleModel",
      "state": {}
     },
     "4951e3bac9394e08923bb5528bc84c7d": {
      "model_module": "@jupyter-widgets/controls",
      "model_module_version": "1.5.0",
      "model_name": "ButtonStyleModel",
      "state": {}
     },
     "4a52f590a629461f8da56f1170bd0e5a": {
      "model_module": "@jupyter-widgets/controls",
      "model_module_version": "1.5.0",
      "model_name": "ButtonStyleModel",
      "state": {}
     },
     "4ab6635182ab413a97962b96096b7d64": {
      "model_module": "@jupyter-widgets/controls",
      "model_module_version": "1.5.0",
      "model_name": "ButtonModel",
      "state": {
       "button_style": "warning",
       "description": "47",
       "layout": "IPY_MODEL_9765d4c8f1ef4da59e8ed383b3d82e31",
       "style": "IPY_MODEL_7c494f3e3f0443098824faf5788f9409"
      }
     },
     "4ab6c630b6b64741b5f1bb2199b7d8d7": {
      "model_module": "@jupyter-widgets/controls",
      "model_module_version": "1.5.0",
      "model_name": "ButtonModel",
      "state": {
       "button_style": "warning",
       "description": "97",
       "layout": "IPY_MODEL_146a19f9fd6c4c6eaf2fb59a2a8a02a5",
       "style": "IPY_MODEL_c1cc493b622d481bb71088dd74b8ca24"
      }
     },
     "4c8605a6c9b44d08855005683d006cea": {
      "model_module": "@jupyter-widgets/controls",
      "model_module_version": "1.5.0",
      "model_name": "ButtonModel",
      "state": {
       "button_style": "warning",
       "description": "83",
       "layout": "IPY_MODEL_9765d4c8f1ef4da59e8ed383b3d82e31",
       "style": "IPY_MODEL_b4199adf64354b81879c7381480ddd25"
      }
     },
     "4d179126cfd546358521e6f6ecc0e9ce": {
      "model_module": "@jupyter-widgets/controls",
      "model_module_version": "1.5.0",
      "model_name": "ButtonStyleModel",
      "state": {}
     },
     "4d2d6e9d9784416583d06a03f74f6284": {
      "model_module": "@jupyter-widgets/controls",
      "model_module_version": "1.5.0",
      "model_name": "ButtonStyleModel",
      "state": {}
     },
     "51b70981322547128857be19038cf5a8": {
      "model_module": "@jupyter-widgets/controls",
      "model_module_version": "1.5.0",
      "model_name": "ButtonModel",
      "state": {
       "button_style": "warning",
       "description": "5",
       "layout": "IPY_MODEL_f3baca44af1a4d79b558686a3e17b6d2",
       "style": "IPY_MODEL_559ef577631f460ab12817b635b2d9bf"
      }
     },
     "5335162e63024c43937c7c1e648daebd": {
      "model_module": "@jupyter-widgets/controls",
      "model_module_version": "1.5.0",
      "model_name": "ButtonModel",
      "state": {
       "button_style": "warning",
       "description": "19",
       "layout": "IPY_MODEL_f3baca44af1a4d79b558686a3e17b6d2",
       "style": "IPY_MODEL_af2433d598ab46b7afcc5b4719b5e8fe"
      }
     },
     "5367c7e6c0a6426389b410acffb0de09": {
      "model_module": "@jupyter-widgets/controls",
      "model_module_version": "1.5.0",
      "model_name": "ButtonModel",
      "state": {
       "button_style": "warning",
       "description": "61",
       "layout": "IPY_MODEL_146a19f9fd6c4c6eaf2fb59a2a8a02a5",
       "style": "IPY_MODEL_922c57d630d24e58ab3726977f30754f"
      }
     },
     "559ef577631f460ab12817b635b2d9bf": {
      "model_module": "@jupyter-widgets/controls",
      "model_module_version": "1.5.0",
      "model_name": "ButtonStyleModel",
      "state": {}
     },
     "56519d54aa834e27ad37ef331c98d623": {
      "model_module": "@jupyter-widgets/controls",
      "model_module_version": "1.5.0",
      "model_name": "ButtonModel",
      "state": {
       "button_style": "warning",
       "description": "3",
       "layout": "IPY_MODEL_f3baca44af1a4d79b558686a3e17b6d2",
       "style": "IPY_MODEL_8d1d060870f444578101570e7311e067"
      }
     },
     "56cbdba49e8a4fa786628d4e4f62529c": {
      "model_module": "@jupyter-widgets/controls",
      "model_module_version": "1.5.0",
      "model_name": "ButtonStyleModel",
      "state": {}
     },
     "56d8995b5e00493b923197ab3c4fca0b": {
      "model_module": "@jupyter-widgets/controls",
      "model_module_version": "1.5.0",
      "model_name": "ButtonStyleModel",
      "state": {}
     },
     "57632f0c02594cfea98bbe84670589fe": {
      "model_module": "@jupyter-widgets/controls",
      "model_module_version": "1.5.0",
      "model_name": "ButtonStyleModel",
      "state": {}
     },
     "58c065ee6fcb4fd09a54d6467b0dc7c2": {
      "model_module": "@jupyter-widgets/controls",
      "model_module_version": "1.5.0",
      "model_name": "ButtonStyleModel",
      "state": {}
     },
     "6158165b14674401a3e11be472139767": {
      "model_module": "@jupyter-widgets/controls",
      "model_module_version": "1.5.0",
      "model_name": "ButtonModel",
      "state": {
       "button_style": "warning",
       "description": "11",
       "layout": "IPY_MODEL_f3baca44af1a4d79b558686a3e17b6d2",
       "style": "IPY_MODEL_d43f86cc69ae426c9bf39f48264f3f32"
      }
     },
     "61840b437d9a4e7f91eda2a0d80f9d74": {
      "model_module": "@jupyter-widgets/controls",
      "model_module_version": "1.5.0",
      "model_name": "ButtonStyleModel",
      "state": {}
     },
     "665a2db0ce304717aed004c7ac833965": {
      "model_module": "@jupyter-widgets/controls",
      "model_module_version": "1.5.0",
      "model_name": "ButtonModel",
      "state": {
       "button_style": "warning",
       "description": "17",
       "layout": "IPY_MODEL_9765d4c8f1ef4da59e8ed383b3d82e31",
       "style": "IPY_MODEL_2270f7411938440188a909f0b056f675"
      }
     },
     "6a917b2b8feb483b8fbe2de9f90055ea": {
      "model_module": "@jupyter-widgets/controls",
      "model_module_version": "1.5.0",
      "model_name": "ButtonStyleModel",
      "state": {}
     },
     "6e06f032d77d4b049ead713a07a416eb": {
      "model_module": "@jupyter-widgets/controls",
      "model_module_version": "1.5.0",
      "model_name": "ButtonStyleModel",
      "state": {}
     },
     "6e46ba774fc5496f9c1321e4b6ae2cd6": {
      "model_module": "@jupyter-widgets/controls",
      "model_module_version": "1.5.0",
      "model_name": "ButtonModel",
      "state": {
       "button_style": "warning",
       "description": "71",
       "layout": "IPY_MODEL_f3baca44af1a4d79b558686a3e17b6d2",
       "style": "IPY_MODEL_58c065ee6fcb4fd09a54d6467b0dc7c2"
      }
     },
     "71eafb49fdca4516a9a721687bfb78b7": {
      "model_module": "@jupyter-widgets/controls",
      "model_module_version": "1.5.0",
      "model_name": "ButtonStyleModel",
      "state": {}
     },
     "7245ee475e33427cb9bf7f8c88a7d3cd": {
      "model_module": "@jupyter-widgets/controls",
      "model_module_version": "1.5.0",
      "model_name": "ButtonModel",
      "state": {
       "button_style": "warning",
       "description": "71",
       "layout": "IPY_MODEL_9765d4c8f1ef4da59e8ed383b3d82e31",
       "style": "IPY_MODEL_f319251724db4cf5b31521b2843d5f4a"
      }
     },
     "734ecccea1e14f859c6dbbb041b567fe": {
      "model_module": "@jupyter-widgets/controls",
      "model_module_version": "1.5.0",
      "model_name": "ButtonStyleModel",
      "state": {}
     },
     "74bee0c0e91448d38dadc6a65f77dc21": {
      "model_module": "@jupyter-widgets/controls",
      "model_module_version": "1.5.0",
      "model_name": "ButtonModel",
      "state": {
       "button_style": "warning",
       "description": "53",
       "layout": "IPY_MODEL_f3baca44af1a4d79b558686a3e17b6d2",
       "style": "IPY_MODEL_40b1e396e2974cc0914cc95236ff6d68"
      }
     },
     "76d95e22bfc24eada2c0481fc693bb9c": {
      "model_module": "@jupyter-widgets/controls",
      "model_module_version": "1.5.0",
      "model_name": "ButtonModel",
      "state": {
       "button_style": "warning",
       "description": "3",
       "layout": "IPY_MODEL_9765d4c8f1ef4da59e8ed383b3d82e31",
       "style": "IPY_MODEL_dc5effe211c3412fbafd6b73e1498256"
      }
     },
     "7a4075abf9ec484ca0cbcdc5ca0018e3": {
      "model_module": "@jupyter-widgets/controls",
      "model_module_version": "1.5.0",
      "model_name": "ButtonStyleModel",
      "state": {}
     },
     "7c494f3e3f0443098824faf5788f9409": {
      "model_module": "@jupyter-widgets/controls",
      "model_module_version": "1.5.0",
      "model_name": "ButtonStyleModel",
      "state": {}
     },
     "7d7195c5720242aab3a02539f6de8cb2": {
      "model_module": "@jupyter-widgets/controls",
      "model_module_version": "1.5.0",
      "model_name": "ButtonModel",
      "state": {
       "button_style": "warning",
       "description": "23",
       "layout": "IPY_MODEL_146a19f9fd6c4c6eaf2fb59a2a8a02a5",
       "style": "IPY_MODEL_8378e3baab35413ea57f9ca61452d103"
      }
     },
     "81d98ace39734ea889126f9c45fd29c6": {
      "model_module": "@jupyter-widgets/controls",
      "model_module_version": "1.5.0",
      "model_name": "ButtonStyleModel",
      "state": {}
     },
     "821d3b5079294e3e81d8181fddab8c72": {
      "model_module": "@jupyter-widgets/controls",
      "model_module_version": "1.5.0",
      "model_name": "ButtonModel",
      "state": {
       "button_style": "warning",
       "description": "73",
       "layout": "IPY_MODEL_f3baca44af1a4d79b558686a3e17b6d2",
       "style": "IPY_MODEL_91626822b72e43698c1669bcb9b9a4c6"
      }
     },
     "8378e3baab35413ea57f9ca61452d103": {
      "model_module": "@jupyter-widgets/controls",
      "model_module_version": "1.5.0",
      "model_name": "ButtonStyleModel",
      "state": {}
     },
     "8632eddff8f543759394bacf07bcfefa": {
      "model_module": "@jupyter-widgets/controls",
      "model_module_version": "1.5.0",
      "model_name": "ButtonStyleModel",
      "state": {}
     },
     "878e5cc9c31b44e98dd9cbcb3020bb2c": {
      "model_module": "@jupyter-widgets/controls",
      "model_module_version": "1.5.0",
      "model_name": "ButtonModel",
      "state": {
       "button_style": "warning",
       "description": "41",
       "layout": "IPY_MODEL_f3baca44af1a4d79b558686a3e17b6d2",
       "style": "IPY_MODEL_263b418a6d184798b2e8c798632bfaa0"
      }
     },
     "88350f3856874733a0ed67bebd7eea9e": {
      "model_module": "@jupyter-widgets/controls",
      "model_module_version": "1.5.0",
      "model_name": "ButtonStyleModel",
      "state": {}
     },
     "885785b1127e4c8190c18c0987b7c94d": {
      "model_module": "@jupyter-widgets/base",
      "model_module_version": "1.2.0",
      "model_name": "LayoutModel",
      "state": {
       "border": "solid",
       "display": "flex",
       "flex_flow": "column",
       "width": "15%"
      }
     },
     "8941ec0313b942899d67a4a405cc1542": {
      "model_module": "@jupyter-widgets/base",
      "model_module_version": "1.2.0",
      "model_name": "LayoutModel",
      "state": {
       "border": "solid",
       "display": "flex",
       "flex_flow": "column",
       "width": "15%"
      }
     },
     "897ab20ad16b4413b28b38db25255973": {
      "model_module": "@jupyter-widgets/controls",
      "model_module_version": "1.5.0",
      "model_name": "ButtonModel",
      "state": {
       "button_style": "warning",
       "description": "97",
       "layout": "IPY_MODEL_f3baca44af1a4d79b558686a3e17b6d2",
       "style": "IPY_MODEL_57632f0c02594cfea98bbe84670589fe"
      }
     },
     "8b14fc44f4bb4140a0644aa74d58fa54": {
      "model_module": "@jupyter-widgets/controls",
      "model_module_version": "1.5.0",
      "model_name": "ButtonStyleModel",
      "state": {}
     },
     "8d1d060870f444578101570e7311e067": {
      "model_module": "@jupyter-widgets/controls",
      "model_module_version": "1.5.0",
      "model_name": "ButtonStyleModel",
      "state": {}
     },
     "8e7149b3847a4478819bd41736ac6f00": {
      "model_module": "@jupyter-widgets/controls",
      "model_module_version": "1.5.0",
      "model_name": "ButtonModel",
      "state": {
       "button_style": "warning",
       "description": "2",
       "layout": "IPY_MODEL_9765d4c8f1ef4da59e8ed383b3d82e31",
       "style": "IPY_MODEL_2e109d240ea74ab6a8927e85e2d8da30"
      }
     },
     "91626822b72e43698c1669bcb9b9a4c6": {
      "model_module": "@jupyter-widgets/controls",
      "model_module_version": "1.5.0",
      "model_name": "ButtonStyleModel",
      "state": {}
     },
     "922c57d630d24e58ab3726977f30754f": {
      "model_module": "@jupyter-widgets/controls",
      "model_module_version": "1.5.0",
      "model_name": "ButtonStyleModel",
      "state": {}
     },
     "927611e74adb49e5a3e3dee3b01ac6ce": {
      "model_module": "@jupyter-widgets/controls",
      "model_module_version": "1.5.0",
      "model_name": "ButtonModel",
      "state": {
       "button_style": "warning",
       "description": "23",
       "layout": "IPY_MODEL_9765d4c8f1ef4da59e8ed383b3d82e31",
       "style": "IPY_MODEL_da96cc86556c419eb3f9e317caa00c7d"
      }
     },
     "92ba4592b1ca47cda86a1b63b97ab9b0": {
      "model_module": "@jupyter-widgets/controls",
      "model_module_version": "1.5.0",
      "model_name": "ButtonModel",
      "state": {
       "button_style": "warning",
       "description": "71",
       "layout": "IPY_MODEL_146a19f9fd6c4c6eaf2fb59a2a8a02a5",
       "style": "IPY_MODEL_c06c9bc28e3c46aabd0ab2fa84de4b52"
      }
     },
     "963796a5a13f4a718fb01f9a1a5d9e91": {
      "model_module": "@jupyter-widgets/controls",
      "model_module_version": "1.5.0",
      "model_name": "ButtonModel",
      "state": {
       "button_style": "warning",
       "description": "67",
       "layout": "IPY_MODEL_146a19f9fd6c4c6eaf2fb59a2a8a02a5",
       "style": "IPY_MODEL_88350f3856874733a0ed67bebd7eea9e"
      }
     },
     "9765d4c8f1ef4da59e8ed383b3d82e31": {
      "model_module": "@jupyter-widgets/base",
      "model_module_version": "1.2.0",
      "model_name": "LayoutModel",
      "state": {
       "width": "auto"
      }
     },
     "97fe59d9b9994fe7becaa9e255c8ca2a": {
      "model_module": "@jupyter-widgets/controls",
      "model_module_version": "1.5.0",
      "model_name": "ButtonStyleModel",
      "state": {}
     },
     "98063c296a51434599020a8646fc9b0c": {
      "model_module": "@jupyter-widgets/controls",
      "model_module_version": "1.5.0",
      "model_name": "ButtonStyleModel",
      "state": {}
     },
     "986e10d45a4c4f97b2d88abaf426c111": {
      "model_module": "@jupyter-widgets/controls",
      "model_module_version": "1.5.0",
      "model_name": "ButtonModel",
      "state": {
       "button_style": "warning",
       "description": "67",
       "layout": "IPY_MODEL_9765d4c8f1ef4da59e8ed383b3d82e31",
       "style": "IPY_MODEL_d83a4f05634342a28742804716c44986"
      }
     },
     "99665e346d1d40ce8a9bd04d19f11aef": {
      "model_module": "@jupyter-widgets/controls",
      "model_module_version": "1.5.0",
      "model_name": "ButtonStyleModel",
      "state": {}
     },
     "9af1dc21895c41318c369a11e4ab62d3": {
      "model_module": "@jupyter-widgets/controls",
      "model_module_version": "1.5.0",
      "model_name": "ButtonModel",
      "state": {
       "button_style": "warning",
       "description": "5",
       "layout": "IPY_MODEL_9765d4c8f1ef4da59e8ed383b3d82e31",
       "style": "IPY_MODEL_fdff782ae215468192b3b362f60ddb30"
      }
     },
     "9cd4cd3a0a1e430cbeb71efc24ca4de7": {
      "model_module": "@jupyter-widgets/controls",
      "model_module_version": "1.5.0",
      "model_name": "ButtonModel",
      "state": {
       "button_style": "warning",
       "description": "23",
       "layout": "IPY_MODEL_f3baca44af1a4d79b558686a3e17b6d2",
       "style": "IPY_MODEL_99665e346d1d40ce8a9bd04d19f11aef"
      }
     },
     "9ebb1600f1de4194906d270b576a628f": {
      "model_module": "@jupyter-widgets/controls",
      "model_module_version": "1.5.0",
      "model_name": "ButtonModel",
      "state": {
       "button_style": "warning",
       "description": "73",
       "layout": "IPY_MODEL_9765d4c8f1ef4da59e8ed383b3d82e31",
       "style": "IPY_MODEL_f4e777800b0d430ca1a603a73c9e5e20"
      }
     },
     "9f88d06c3f614915ac9be4c466a62b38": {
      "model_module": "@jupyter-widgets/controls",
      "model_module_version": "1.5.0",
      "model_name": "ButtonModel",
      "state": {
       "button_style": "warning",
       "description": "59",
       "layout": "IPY_MODEL_146a19f9fd6c4c6eaf2fb59a2a8a02a5",
       "style": "IPY_MODEL_7a4075abf9ec484ca0cbcdc5ca0018e3"
      }
     },
     "a185739490e947c09530cd6c13321e62": {
      "model_module": "@jupyter-widgets/controls",
      "model_module_version": "1.5.0",
      "model_name": "ButtonModel",
      "state": {
       "button_style": "warning",
       "description": "79",
       "layout": "IPY_MODEL_9765d4c8f1ef4da59e8ed383b3d82e31",
       "style": "IPY_MODEL_4a52f590a629461f8da56f1170bd0e5a"
      }
     },
     "a29cc9cc1a1c43c0b1ba81a26f8715a2": {
      "model_module": "@jupyter-widgets/controls",
      "model_module_version": "1.5.0",
      "model_name": "ButtonModel",
      "state": {
       "button_style": "warning",
       "description": "79",
       "layout": "IPY_MODEL_146a19f9fd6c4c6eaf2fb59a2a8a02a5",
       "style": "IPY_MODEL_157f6f6ef08b4f829b6793dfdcbe6ace"
      }
     },
     "a5f5571016be464f968d4f0359753ae4": {
      "model_module": "@jupyter-widgets/controls",
      "model_module_version": "1.5.0",
      "model_name": "ButtonStyleModel",
      "state": {}
     },
     "a6a2d66c59dc4fc6a2135b468e443678": {
      "model_module": "@jupyter-widgets/controls",
      "model_module_version": "1.5.0",
      "model_name": "ButtonStyleModel",
      "state": {}
     },
     "aad7e3936003455fba1042daa3c7e5cf": {
      "model_module": "@jupyter-widgets/controls",
      "model_module_version": "1.5.0",
      "model_name": "ButtonModel",
      "state": {
       "button_style": "warning",
       "description": "37",
       "layout": "IPY_MODEL_9765d4c8f1ef4da59e8ed383b3d82e31",
       "style": "IPY_MODEL_fdcb238f7573473bb91eb06f4c797c0d"
      }
     },
     "ada1493a3dc34df4990aaec77974c34b": {
      "model_module": "@jupyter-widgets/controls",
      "model_module_version": "1.5.0",
      "model_name": "ButtonStyleModel",
      "state": {}
     },
     "af2433d598ab46b7afcc5b4719b5e8fe": {
      "model_module": "@jupyter-widgets/controls",
      "model_module_version": "1.5.0",
      "model_name": "ButtonStyleModel",
      "state": {}
     },
     "b1afa960d6534d52959abf824127345f": {
      "model_module": "@jupyter-widgets/controls",
      "model_module_version": "1.5.0",
      "model_name": "ButtonStyleModel",
      "state": {}
     },
     "b4199adf64354b81879c7381480ddd25": {
      "model_module": "@jupyter-widgets/controls",
      "model_module_version": "1.5.0",
      "model_name": "ButtonStyleModel",
      "state": {}
     },
     "b55b2059a48b4b559caf1f54f68bf44d": {
      "model_module": "@jupyter-widgets/base",
      "model_module_version": "1.2.0",
      "model_name": "LayoutModel",
      "state": {
       "width": "auto"
      }
     },
     "b69e9a7b5e334a9c8572f6d3ef67f5c9": {
      "model_module": "@jupyter-widgets/controls",
      "model_module_version": "1.5.0",
      "model_name": "ButtonStyleModel",
      "state": {}
     },
     "b862b512a82c4a7988cf38977c704b01": {
      "model_module": "@jupyter-widgets/controls",
      "model_module_version": "1.5.0",
      "model_name": "ButtonStyleModel",
      "state": {}
     },
     "bbba9711d0e94a4da31d2bd62d1fecf6": {
      "model_module": "@jupyter-widgets/controls",
      "model_module_version": "1.5.0",
      "model_name": "ButtonModel",
      "state": {
       "button_style": "warning",
       "description": "89",
       "layout": "IPY_MODEL_f3baca44af1a4d79b558686a3e17b6d2",
       "style": "IPY_MODEL_38f6877424464315a59271c58ae3473e"
      }
     },
     "bc0526e2e3db461791155324858ef6c8": {
      "model_module": "@jupyter-widgets/controls",
      "model_module_version": "1.5.0",
      "model_name": "ButtonModel",
      "state": {
       "button_style": "warning",
       "description": "2",
       "layout": "IPY_MODEL_f3baca44af1a4d79b558686a3e17b6d2",
       "style": "IPY_MODEL_a6a2d66c59dc4fc6a2135b468e443678"
      }
     },
     "bdb1be2a239d45f18551306d79c21394": {
      "model_module": "@jupyter-widgets/controls",
      "model_module_version": "1.5.0",
      "model_name": "ButtonStyleModel",
      "state": {}
     },
     "be564320c3da48dfb60a7f98de52a44c": {
      "model_module": "@jupyter-widgets/controls",
      "model_module_version": "1.5.0",
      "model_name": "ButtonModel",
      "state": {
       "button_style": "warning",
       "description": "19",
       "layout": "IPY_MODEL_9765d4c8f1ef4da59e8ed383b3d82e31",
       "style": "IPY_MODEL_2329daf3a48d4c6a925fba7a805d5aeb"
      }
     },
     "c031889c3c19433ea774390bf77b4709": {
      "model_module": "@jupyter-widgets/controls",
      "model_module_version": "1.5.0",
      "model_name": "ButtonModel",
      "state": {
       "button_style": "warning",
       "description": "43",
       "layout": "IPY_MODEL_146a19f9fd6c4c6eaf2fb59a2a8a02a5",
       "style": "IPY_MODEL_1a13f37a54734769b25aac6db90501e8"
      }
     },
     "c06c9bc28e3c46aabd0ab2fa84de4b52": {
      "model_module": "@jupyter-widgets/controls",
      "model_module_version": "1.5.0",
      "model_name": "ButtonStyleModel",
      "state": {}
     },
     "c1b35c908cbc4c1cbacf7d9ae0938346": {
      "model_module": "@jupyter-widgets/controls",
      "model_module_version": "1.5.0",
      "model_name": "ButtonModel",
      "state": {
       "button_style": "warning",
       "description": "97",
       "layout": "IPY_MODEL_9765d4c8f1ef4da59e8ed383b3d82e31",
       "style": "IPY_MODEL_f2ac75b52fe946339a08b8935305d55e"
      }
     },
     "c1cc493b622d481bb71088dd74b8ca24": {
      "model_module": "@jupyter-widgets/controls",
      "model_module_version": "1.5.0",
      "model_name": "ButtonStyleModel",
      "state": {}
     },
     "c455bc7dc0ab4df8a975c775f3ad11f7": {
      "model_module": "@jupyter-widgets/controls",
      "model_module_version": "1.5.0",
      "model_name": "ButtonModel",
      "state": {
       "button_style": "warning",
       "description": "17",
       "layout": "IPY_MODEL_f3baca44af1a4d79b558686a3e17b6d2",
       "style": "IPY_MODEL_4d179126cfd546358521e6f6ecc0e9ce"
      }
     },
     "ca9e32b246de4d5d9cbd1f460f2b94cb": {
      "model_module": "@jupyter-widgets/controls",
      "model_module_version": "1.5.0",
      "model_name": "ButtonStyleModel",
      "state": {}
     },
     "cc08500ab2364da9b99dd64d37297e4a": {
      "model_module": "@jupyter-widgets/controls",
      "model_module_version": "1.5.0",
      "model_name": "ButtonModel",
      "state": {
       "button_style": "warning",
       "description": "59",
       "layout": "IPY_MODEL_f3baca44af1a4d79b558686a3e17b6d2",
       "style": "IPY_MODEL_35a3f178e6914426a798246a8ea84661"
      }
     },
     "cc091f2480f94b44b02fdf8cc5730af3": {
      "model_module": "@jupyter-widgets/controls",
      "model_module_version": "1.5.0",
      "model_name": "ButtonModel",
      "state": {
       "button_style": "warning",
       "description": "37",
       "layout": "IPY_MODEL_f3baca44af1a4d79b558686a3e17b6d2",
       "style": "IPY_MODEL_b69e9a7b5e334a9c8572f6d3ef67f5c9"
      }
     },
     "cde0b00bc62e4464aa68d14102ca75eb": {
      "model_module": "@jupyter-widgets/controls",
      "model_module_version": "1.5.0",
      "model_name": "ButtonModel",
      "state": {
       "button_style": "warning",
       "description": "41",
       "layout": "IPY_MODEL_146a19f9fd6c4c6eaf2fb59a2a8a02a5",
       "style": "IPY_MODEL_bdb1be2a239d45f18551306d79c21394"
      }
     },
     "d1d900c8904c4acca6b4443b36fbbeb4": {
      "model_module": "@jupyter-widgets/controls",
      "model_module_version": "1.5.0",
      "model_name": "ButtonModel",
      "state": {
       "button_style": "warning",
       "description": "13",
       "layout": "IPY_MODEL_146a19f9fd6c4c6eaf2fb59a2a8a02a5",
       "style": "IPY_MODEL_1bf32719f3694bfc92c85f67d1db7113"
      }
     },
     "d347a80fb4cb4928b752e81a3bb0e31c": {
      "model_module": "@jupyter-widgets/base",
      "model_module_version": "1.2.0",
      "model_name": "LayoutModel",
      "state": {
       "border": "solid",
       "display": "flex",
       "flex_flow": "column",
       "width": "15%"
      }
     },
     "d43f86cc69ae426c9bf39f48264f3f32": {
      "model_module": "@jupyter-widgets/controls",
      "model_module_version": "1.5.0",
      "model_name": "ButtonStyleModel",
      "state": {}
     },
     "d711a82a9721497b970d606bab2b0f45": {
      "model_module": "@jupyter-widgets/controls",
      "model_module_version": "1.5.0",
      "model_name": "ButtonModel",
      "state": {
       "button_style": "warning",
       "description": "67",
       "layout": "IPY_MODEL_f3baca44af1a4d79b558686a3e17b6d2",
       "style": "IPY_MODEL_4d2d6e9d9784416583d06a03f74f6284"
      }
     },
     "d83a4f05634342a28742804716c44986": {
      "model_module": "@jupyter-widgets/controls",
      "model_module_version": "1.5.0",
      "model_name": "ButtonStyleModel",
      "state": {}
     },
     "d891429b317840b5860250f6b06094f8": {
      "model_module": "@jupyter-widgets/controls",
      "model_module_version": "1.5.0",
      "model_name": "ButtonModel",
      "state": {
       "button_style": "warning",
       "description": "31",
       "layout": "IPY_MODEL_146a19f9fd6c4c6eaf2fb59a2a8a02a5",
       "style": "IPY_MODEL_e6178d4650d845b8a49cccb79713425b"
      }
     },
     "d8c66529a71b4fd2ba2d8e8c534793c0": {
      "model_module": "@jupyter-widgets/controls",
      "model_module_version": "1.5.0",
      "model_name": "ButtonModel",
      "state": {
       "button_style": "warning",
       "description": "47",
       "layout": "IPY_MODEL_f3baca44af1a4d79b558686a3e17b6d2",
       "style": "IPY_MODEL_20fd261e4e87443f93f0dc15fcf21572"
      }
     },
     "da96cc86556c419eb3f9e317caa00c7d": {
      "model_module": "@jupyter-widgets/controls",
      "model_module_version": "1.5.0",
      "model_name": "ButtonStyleModel",
      "state": {}
     },
     "da992ffa086b4008bf855958ad81d1e8": {
      "model_module": "@jupyter-widgets/controls",
      "model_module_version": "1.5.0",
      "model_name": "ButtonModel",
      "state": {
       "button_style": "warning",
       "description": "59",
       "layout": "IPY_MODEL_9765d4c8f1ef4da59e8ed383b3d82e31",
       "style": "IPY_MODEL_6a917b2b8feb483b8fbe2de9f90055ea"
      }
     },
     "dc5effe211c3412fbafd6b73e1498256": {
      "model_module": "@jupyter-widgets/controls",
      "model_module_version": "1.5.0",
      "model_name": "ButtonStyleModel",
      "state": {}
     },
     "dcaf3fd91d0d49f5be7ca37156c3e913": {
      "model_module": "@jupyter-widgets/controls",
      "model_module_version": "1.5.0",
      "model_name": "ButtonModel",
      "state": {
       "button_style": "warning",
       "description": "3",
       "layout": "IPY_MODEL_146a19f9fd6c4c6eaf2fb59a2a8a02a5",
       "style": "IPY_MODEL_b1afa960d6534d52959abf824127345f"
      }
     },
     "dcf3d6eedfdf4af98d7f8054ab93b493": {
      "model_module": "@jupyter-widgets/controls",
      "model_module_version": "1.5.0",
      "model_name": "BoxModel",
      "state": {
       "children": [
        "IPY_MODEL_bc0526e2e3db461791155324858ef6c8",
        "IPY_MODEL_56519d54aa834e27ad37ef331c98d623",
        "IPY_MODEL_51b70981322547128857be19038cf5a8",
        "IPY_MODEL_f4aaa3ecb6a64bf4a1b17b426a6d4ad1",
        "IPY_MODEL_6158165b14674401a3e11be472139767",
        "IPY_MODEL_edb12a96cc3b4ccc8ce4835c496efb73",
        "IPY_MODEL_c455bc7dc0ab4df8a975c775f3ad11f7",
        "IPY_MODEL_5335162e63024c43937c7c1e648daebd",
        "IPY_MODEL_9cd4cd3a0a1e430cbeb71efc24ca4de7",
        "IPY_MODEL_2a8dc617b3324027bcd2a5e4ce763cc1",
        "IPY_MODEL_19fbe4533d73466ebdaa339bb8b2ed51",
        "IPY_MODEL_cc091f2480f94b44b02fdf8cc5730af3",
        "IPY_MODEL_878e5cc9c31b44e98dd9cbcb3020bb2c",
        "IPY_MODEL_04e350275f9d4e88ac05b4132667e5a8",
        "IPY_MODEL_d8c66529a71b4fd2ba2d8e8c534793c0",
        "IPY_MODEL_74bee0c0e91448d38dadc6a65f77dc21",
        "IPY_MODEL_cc08500ab2364da9b99dd64d37297e4a",
        "IPY_MODEL_3b666c77fb364f28b836ad59b68a5ee4",
        "IPY_MODEL_d711a82a9721497b970d606bab2b0f45",
        "IPY_MODEL_6e46ba774fc5496f9c1321e4b6ae2cd6",
        "IPY_MODEL_821d3b5079294e3e81d8181fddab8c72",
        "IPY_MODEL_00f82a9bf41b4d0bace3e64b8df5ac22",
        "IPY_MODEL_268e167ca96a4e359a9adce8359716df",
        "IPY_MODEL_bbba9711d0e94a4da31d2bd62d1fecf6",
        "IPY_MODEL_897ab20ad16b4413b28b38db25255973"
       ],
       "layout": "IPY_MODEL_885785b1127e4c8190c18c0987b7c94d"
      }
     },
     "e04fd74787ad4bfaadd4c39368d98af1": {
      "model_module": "@jupyter-widgets/controls",
      "model_module_version": "1.5.0",
      "model_name": "ButtonModel",
      "state": {
       "button_style": "warning",
       "description": "89",
       "layout": "IPY_MODEL_9765d4c8f1ef4da59e8ed383b3d82e31",
       "style": "IPY_MODEL_6e06f032d77d4b049ead713a07a416eb"
      }
     },
     "e17e2c41c4664165a1a7d4d4c0a015ab": {
      "model_module": "@jupyter-widgets/controls",
      "model_module_version": "1.5.0",
      "model_name": "ButtonModel",
      "state": {
       "button_style": "warning",
       "description": "13",
       "layout": "IPY_MODEL_9765d4c8f1ef4da59e8ed383b3d82e31",
       "style": "IPY_MODEL_71eafb49fdca4516a9a721687bfb78b7"
      }
     },
     "e1d7715c8a8b48a88fa813c0a4f4f660": {
      "model_module": "@jupyter-widgets/controls",
      "model_module_version": "1.5.0",
      "model_name": "ButtonStyleModel",
      "state": {}
     },
     "e6178d4650d845b8a49cccb79713425b": {
      "model_module": "@jupyter-widgets/controls",
      "model_module_version": "1.5.0",
      "model_name": "ButtonStyleModel",
      "state": {}
     },
     "e9c09b81fbb448c58b2fd0897a4d1254": {
      "model_module": "@jupyter-widgets/controls",
      "model_module_version": "1.5.0",
      "model_name": "ButtonStyleModel",
      "state": {}
     },
     "edb12a96cc3b4ccc8ce4835c496efb73": {
      "model_module": "@jupyter-widgets/controls",
      "model_module_version": "1.5.0",
      "model_name": "ButtonModel",
      "state": {
       "button_style": "warning",
       "description": "13",
       "layout": "IPY_MODEL_f3baca44af1a4d79b558686a3e17b6d2",
       "style": "IPY_MODEL_8632eddff8f543759394bacf07bcfefa"
      }
     },
     "ee4aa8d0f38d4b1dba4dc1c22a4936ec": {
      "model_module": "@jupyter-widgets/controls",
      "model_module_version": "1.5.0",
      "model_name": "ButtonModel",
      "state": {
       "button_style": "warning",
       "description": "11",
       "layout": "IPY_MODEL_146a19f9fd6c4c6eaf2fb59a2a8a02a5",
       "style": "IPY_MODEL_351e6a7096be4ceba44c4064a999a41a"
      }
     },
     "efe5f6180db54942bdf75ed743ae0090": {
      "model_module": "@jupyter-widgets/controls",
      "model_module_version": "1.5.0",
      "model_name": "ButtonModel",
      "state": {
       "button_style": "warning",
       "description": "41",
       "layout": "IPY_MODEL_9765d4c8f1ef4da59e8ed383b3d82e31",
       "style": "IPY_MODEL_2833863e4ce949f4a4ee09d4e638e957"
      }
     },
     "f2828f295ca44c12a2a29a172e1a23f2": {
      "model_module": "@jupyter-widgets/controls",
      "model_module_version": "1.5.0",
      "model_name": "ButtonModel",
      "state": {
       "button_style": "warning",
       "description": "43",
       "layout": "IPY_MODEL_9765d4c8f1ef4da59e8ed383b3d82e31",
       "style": "IPY_MODEL_ada1493a3dc34df4990aaec77974c34b"
      }
     },
     "f2ac75b52fe946339a08b8935305d55e": {
      "model_module": "@jupyter-widgets/controls",
      "model_module_version": "1.5.0",
      "model_name": "ButtonStyleModel",
      "state": {}
     },
     "f319251724db4cf5b31521b2843d5f4a": {
      "model_module": "@jupyter-widgets/controls",
      "model_module_version": "1.5.0",
      "model_name": "ButtonStyleModel",
      "state": {}
     },
     "f3a3eebdabee43f98756f5ca9506b344": {
      "model_module": "@jupyter-widgets/controls",
      "model_module_version": "1.5.0",
      "model_name": "ButtonStyleModel",
      "state": {}
     },
     "f3baca44af1a4d79b558686a3e17b6d2": {
      "model_module": "@jupyter-widgets/base",
      "model_module_version": "1.2.0",
      "model_name": "LayoutModel",
      "state": {
       "width": "auto"
      }
     },
     "f4aaa3ecb6a64bf4a1b17b426a6d4ad1": {
      "model_module": "@jupyter-widgets/controls",
      "model_module_version": "1.5.0",
      "model_name": "ButtonModel",
      "state": {
       "button_style": "warning",
       "description": "7",
       "layout": "IPY_MODEL_f3baca44af1a4d79b558686a3e17b6d2",
       "style": "IPY_MODEL_05dbf0f79eb8433480346a31704df9ca"
      }
     },
     "f4e777800b0d430ca1a603a73c9e5e20": {
      "model_module": "@jupyter-widgets/controls",
      "model_module_version": "1.5.0",
      "model_name": "ButtonStyleModel",
      "state": {}
     },
     "f7cde2b173774801b672c957f5acc483": {
      "model_module": "@jupyter-widgets/controls",
      "model_module_version": "1.5.0",
      "model_name": "BoxModel",
      "state": {
       "children": [
        "IPY_MODEL_1cf4019b93b94f82873cdc9ed4394026",
        "IPY_MODEL_dcaf3fd91d0d49f5be7ca37156c3e913",
        "IPY_MODEL_25c99537b45641e4bf648f1e358ddef8",
        "IPY_MODEL_324627f2ae5648f585ed701a167870c1",
        "IPY_MODEL_ee4aa8d0f38d4b1dba4dc1c22a4936ec",
        "IPY_MODEL_d1d900c8904c4acca6b4443b36fbbeb4",
        "IPY_MODEL_1dfbd22632e0436587621641d9cb5180",
        "IPY_MODEL_33374546d6ea416d849de8a7a204a867",
        "IPY_MODEL_7d7195c5720242aab3a02539f6de8cb2",
        "IPY_MODEL_2089446661fa48b3b8a5f93b13c4b45f",
        "IPY_MODEL_d891429b317840b5860250f6b06094f8",
        "IPY_MODEL_224d183ed802459da9d3dec201d8e9e0",
        "IPY_MODEL_cde0b00bc62e4464aa68d14102ca75eb",
        "IPY_MODEL_c031889c3c19433ea774390bf77b4709",
        "IPY_MODEL_0b0d4809d1a0440187cefb8a486d0efd",
        "IPY_MODEL_06cc47b9f6b54ddc921cff156de6a168",
        "IPY_MODEL_9f88d06c3f614915ac9be4c466a62b38",
        "IPY_MODEL_5367c7e6c0a6426389b410acffb0de09",
        "IPY_MODEL_963796a5a13f4a718fb01f9a1a5d9e91",
        "IPY_MODEL_92ba4592b1ca47cda86a1b63b97ab9b0",
        "IPY_MODEL_0dc7c87cd9ba405cadc4078ddf0904e1",
        "IPY_MODEL_a29cc9cc1a1c43c0b1ba81a26f8715a2",
        "IPY_MODEL_04cbeaf4327249cfbdbcbb90bad1a2cc",
        "IPY_MODEL_1823d83606e04f31998cac9b15e74024",
        "IPY_MODEL_4ab6c630b6b64741b5f1bb2199b7d8d7"
       ],
       "layout": "IPY_MODEL_011ff4e3126f4d09bd17fa68af3e6ceb"
      }
     },
     "fa59db63b72b4be280ba8164ed961020": {
      "model_module": "@jupyter-widgets/controls",
      "model_module_version": "1.5.0",
      "model_name": "ButtonStyleModel",
      "state": {}
     },
     "fd05803b6cf04c4591524f81fabacf99": {
      "model_module": "@jupyter-widgets/controls",
      "model_module_version": "1.5.0",
      "model_name": "ButtonModel",
      "state": {
       "button_style": "warning",
       "description": "61",
       "layout": "IPY_MODEL_9765d4c8f1ef4da59e8ed383b3d82e31",
       "style": "IPY_MODEL_56d8995b5e00493b923197ab3c4fca0b"
      }
     },
     "fdcb238f7573473bb91eb06f4c797c0d": {
      "model_module": "@jupyter-widgets/controls",
      "model_module_version": "1.5.0",
      "model_name": "ButtonStyleModel",
      "state": {}
     },
     "fdff782ae215468192b3b362f60ddb30": {
      "model_module": "@jupyter-widgets/controls",
      "model_module_version": "1.5.0",
      "model_name": "ButtonStyleModel",
      "state": {}
     }
    },
    "version_major": 2,
    "version_minor": 0
   }
  }
 },
 "nbformat": 4,
 "nbformat_minor": 2
}
