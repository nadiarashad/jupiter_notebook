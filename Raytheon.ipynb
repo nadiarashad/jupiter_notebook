{
 "cells": [
  {
   "cell_type": "markdown",
   "metadata": {},
   "source": [
    "# Raytheon Technical Challenge\n",
    "\n",
    "\n",
    "### The challenge was to create a programme displaying all prime numbers between 1 and 100\n",
    "\n",
    "### The below table displays the considerations and what I did in response.\n",
    "\n",
    "|Instruction | Response  |\n",
    "|:---------|:---------|\n",
    "|   How would a new user know how to clone and run your code? | I created a read me file which included a step by step instruction guide explaining how to clone and run my repository|\n",
    "|   Prevention of committing of secrets and IDE artefacts to your repository.  | Although the repository is public, I have not set any collaborators, therefore no other person can contribute to the repository|\n",
    "|   Speed of algorithm  | I used a few different types of functions and finally set on using Sive of Eratosthenes, there are faster sieves available however I felt this is one I could explain the code for.<br><br> I tested the speed of the algorithm using '%%time' which displayed the 'Wall time' allowing me to compare the speeds of different functions |\n",
    "|   Display output  | I used Jupyter Notebook which allowed me to display markdown as well as code in the same document. Jupyter Notebook also used CSS, so I was able to display a grid of the prime numbers as well as using the ipywidget to display a more visually appealing list |\n",
    "|   Protecting your own personal information e.g birthdates, photos etc.)  |  I used the getpass module which prompts the user for a password before displaying the output data. <br><br>I also used the cryptography package which uses symmetric encryption (one key for multiple users) to encrypt a file which could contain passwords and other sensitive content |\n",
    "\n"
   ]
  },
  {
   "cell_type": "markdown",
   "metadata": {},
   "source": [
    "### The below of code displays the getpass module which prompts teh use for a password before they can see the output data.\n",
    "\n",
    "### The output data here is displayed as a list"
   ]
  },
  {
   "cell_type": "code",
   "execution_count": 59,
   "metadata": {},
   "outputs": [
    {
     "name": "stdout",
     "output_type": "stream",
     "text": [
      "\n",
      "Please enter password for User Name : nadia\n",
      "········\n",
      "Welcome, here is the data you were looking for!\n",
      "\n",
      "Prime numbers between 1 and 100 are:\n",
      "\n",
      "2\n",
      "3\n",
      "5\n",
      "7\n",
      "11\n",
      "13\n",
      "17\n",
      "19\n",
      "23\n",
      "29\n",
      "31\n",
      "37\n",
      "41\n",
      "43\n",
      "47\n",
      "53\n",
      "59\n",
      "61\n",
      "67\n",
      "71\n",
      "73\n",
      "79\n",
      "83\n",
      "89\n",
      "97\n"
     ]
    }
   ],
   "source": [
    "import getpass\n",
    "\n",
    "\n",
    "# this section protects the data with a password\n",
    "user = getpass.getuser() #takes the users name and assigns it to a variable \n",
    "  \n",
    "while True: \n",
    "    pwd = getpass.getpass(\"\\nPlease enter password for User Name : %s\\n\" % user) \n",
    "  \n",
    "    if pwd == 'abcd': \n",
    "        print (\"Welcome, here is the data you were looking for!\\n\")\n",
    "        break\n",
    "    else: \n",
    "        print (\"The password you entered is incorrect, please try again.\\n\")\n",
    "        \n",
    " \n",
    "\n",
    "\n",
    "    #function to obtain all of the prime numbers and prints as a list      \n",
    "def SieveOfEratosthenes(n): \n",
    "    \n",
    "    print(\"Prime numbers between\", 1, \"and\", 100, \"are:\\n\")\n",
    "      \n",
    "    # Create a boolean array and initialize \n",
    "    # all entries will always be true. A value in prime[i] will finally be false if i is Not a prime. \n",
    "    \n",
    "    prime = [True for i in range(n + 1)] \n",
    "    p = 2                       #as this is the first prime number\n",
    "    global primes               #declaring a global variable as it will be used outside of this function\n",
    "    primes = []                 #an array to append all of the prime numbers so I can create a grid later\n",
    "    \n",
    "    #loop through range starting from p2, count up in increments of p and mark each of \n",
    "    # these numbers greater than or equal to p2 itself in the list, this will mark anything that is not a prime number\n",
    "   \n",
    "    while (p * p <= n): \n",
    "          \n",
    "        # If prime[p] is not changed, then it is a prime \n",
    "        if (prime[p] == True):          #so this is all of the numbers as we have marked them as true\n",
    "              \n",
    "            \n",
    "             # foor loop to update all multiples of p as these will not be prime numbers\n",
    "            for i in range(p * 2, n + 1, p): \n",
    "                prime[i] = False\n",
    "        p += 1\n",
    "    prime[0]= False\n",
    "    prime[1]= False\n",
    "   \n",
    "   \n",
    "    #append the prime number as a string to the primes array, converted the number to a \n",
    "    #string so that the data can be manipulated into a grid/ buttons\n",
    "    for p in range(n + 1): \n",
    "        if prime[p]: \n",
    "           \n",
    "            primes.append(str(p)) \n",
    "            print(p)\n",
    "           \n",
    "\n",
    "\n",
    "    #invoking of the function with 100 as an argument as it is the range integer            \n",
    "SieveOfEratosthenes(100)\n",
    "\n",
    "\n"
   ]
  },
  {
   "cell_type": "markdown",
   "metadata": {},
   "source": [
    "### This code prints the outcome as a grid"
   ]
  },
  {
   "cell_type": "code",
   "execution_count": 57,
   "metadata": {},
   "outputs": [
    {
     "name": "stdout",
     "output_type": "stream",
     "text": [
      "| 2\t|3\t|5\t|7\t|11\n",
      "|13\t|17\t|19\t|23\t|29\n",
      "|31\t|37\t|41\t|43\t|47\n",
      "|53\t|59\t|61\t|67\t|71\n",
      "|73\t|79\t|83\t|89\t|97\n",
      "\n"
     ]
    }
   ],
   "source": [
    "   \n",
    "def printGrid (numsPerRow, primes):\n",
    "    copyL = primes[:] #copies the prime number array to the original is not mutated\n",
    "    numsInRow = 1\n",
    "    for i in range(len(primes)):\n",
    "        \n",
    "        if numsInRow % numsPerRow == 0:  #if 5 remainder the numbers which are already in the row equal 0,  \n",
    "                                         # start a new line\n",
    "            copyL[i] = copyL[i] + \"\\n\"\n",
    "            numsInRow = 1\n",
    "        else:\n",
    "            copyL[i] = copyL[i] + \"\\t\" #add another number to the row \n",
    "            numsInRow += 1\n",
    "    return copyL\n",
    "\n",
    "print(\"|\", \"|\".join(printGrid(5, primes)))\n",
    "\n"
   ]
  },
  {
   "cell_type": "markdown",
   "metadata": {},
   "source": [
    "### This code prints the outcome as a ipywidget box"
   ]
  },
  {
   "cell_type": "code",
   "execution_count": 56,
   "metadata": {},
   "outputs": [
    {
     "data": {
      "application/vnd.jupyter.widget-view+json": {
       "model_id": "ad3a83265d2d4342a64e339c4e0b9632",
       "version_major": 2,
       "version_minor": 0
      },
      "text/plain": [
       "Box(children=(Button(button_style='warning', description='2', layout=Layout(width='auto'), style=ButtonStyle()…"
      ]
     },
     "metadata": {},
     "output_type": "display_data"
    }
   ],
   "source": [
    "from ipywidgets import Layout, Button, Box, GridspecLayout\n",
    "\n",
    "items_layout = Layout( width='auto')     # override the default width of the button to 'auto' to let \n",
    "                                         # the button grow\n",
    "\n",
    "box_layout = Layout(display='flex',\n",
    "                    flex_flow='column',\n",
    "                    border='solid',\n",
    "                    width='15%')\n",
    "\n",
    "\n",
    "items = [Button(description=integer, layout=items_layout, button_style='warning') for integer in primes]\n",
    "box = Box(children=items, layout=box_layout)\n",
    "box"
   ]
  },
  {
   "cell_type": "markdown",
   "metadata": {},
   "source": [
    "### This code adds encryption to the file and then decrypts the file again. \n",
    "\n",
    "### You can see the results from the encrypted and decrypted bytes in the \"passwords.txtencrypted\" and \"passwords.txtdecrypted\" documents"
   ]
  },
  {
   "cell_type": "code",
   "execution_count": 48,
   "metadata": {},
   "outputs": [
    {
     "name": "stdout",
     "output_type": "stream",
     "text": [
      "CPU times: user 2.86 ms, sys: 300 µs, total: 3.16 ms\n",
      "Wall time: 5.16 ms\n"
     ]
    }
   ],
   "source": [
    "from cryptography.fernet import Fernet\n",
    "\n",
    "#Fernet guarantees that a message encrypted using it cannot be manipulated or read without the key. \n",
    "#Fernet is an implementation of symmetric (also known as “secret key”) authenticated cryptography.\n",
    "#key = Fernet.generate_key()  # this generates the key\n",
    "#fkey.write(key)  #we have written the key to the passwords file \n",
    "\n",
    "fkey = open(\"file_key.txt\", \"rb\")   #open() function returns a file object, which has a read() \n",
    "                                    #method for reading the content of the file\n",
    "key = fkey.read()\n",
    "cipher = Fernet(key)\n",
    "filename=\"passwords.txt\"\n",
    "with open(filename, \"rb\")as f:    #rb is read bytes\n",
    "    e_file = f.read()             #assigning contents of the file to a new variable\n",
    "encrypted_file = cipher.encrypt(e_file)     # file is now encrypted >> A secure message that cannot \n",
    "                                            #be read or altered without the key.\n",
    "\n",
    "with open(filename + \"encrypted\", \"wb\")as ef:  #wb is write bytes\n",
    "    ef.write(encrypted_file)                   #write the encrypted content to a new document \n",
    "\n"
   ]
  },
  {
   "cell_type": "markdown",
   "metadata": {},
   "source": [
    "### Thank you for taking the time to go through this document, Nadia."
   ]
  }
 ],
 "metadata": {
  "kernelspec": {
   "display_name": "Python 3",
   "language": "python",
   "name": "python3"
  },
  "language_info": {
   "codemirror_mode": {
    "name": "ipython",
    "version": 3
   },
   "file_extension": ".py",
   "mimetype": "text/x-python",
   "name": "python",
   "nbconvert_exporter": "python",
   "pygments_lexer": "ipython3",
   "version": "3.7.0"
  }
 },
 "nbformat": 4,
 "nbformat_minor": 2
}
