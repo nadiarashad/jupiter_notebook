{
 "cells": [
  {
   "cell_type": "code",
   "execution_count": 30,
   "metadata": {},
   "outputs": [
    {
     "name": "stdout",
     "output_type": "stream",
     "text": [
      "Welcome\n"
     ]
    }
   ],
   "source": [
    "print(\"Welcome\")"
   ]
  },
  {
   "cell_type": "code",
   "execution_count": 31,
   "metadata": {},
   "outputs": [
    {
     "name": "stdout",
     "output_type": "stream",
     "text": [
      "\n",
      "Please enter password for User Name : nadia\n",
      "········\n",
      "Welcome, here is the data you were looking for!\n",
      "\n",
      "Prime numbers between 1 and 100 are:\n",
      "\n",
      "2\t3\t5\t7\t11\n",
      "13\t17\t19\t23\t29\n",
      "31\t37\t41\t43\t47\n",
      "53\t59\t61\t67\t71\n",
      "73\t79\t83\t89\t97\n",
      "\n",
      "CPU times: user 39.9 ms, sys: 9.29 ms, total: 49.2 ms\n",
      "Wall time: 2.81 s\n"
     ]
    }
   ],
   "source": [
    "%%time\n",
    "import getpass\n",
    "from cryptography.fernet import Fernet\n",
    "from ipywidgets import Layout, Button, Box, GridspecLayout\n",
    "\n",
    "\n",
    "\n",
    "#key = Fernet.generate_key()\n",
    "#fkey.write(key)\n",
    "fkey = open(\"file_key.txt\", \"rb\")\n",
    "key = fkey.read()\n",
    "cipher = Fernet(key)\n",
    "filename=\"passwords.txt\"\n",
    "with open(filename, \"rb\")as f:    \n",
    "    e_file = f.read()\n",
    "encrypted_file = cipher.encrypt(e_file)     # file is now encrypted\n",
    "\n",
    "with open(filename + \"encrypted\", \"wb\")as ef:\n",
    "    ef.write(encrypted_file)\n",
    "\n",
    "    \n",
    "\n",
    "    \n",
    "\n",
    "user = getpass.getuser() \n",
    "  \n",
    "while True: \n",
    "    pwd = getpass.getpass(\"\\nPlease enter password for User Name : %s\\n\" % user) \n",
    "  \n",
    "    if pwd == 'abcd': \n",
    "        print (\"Welcome, here is the data you were looking for!\\n\")\n",
    "        break\n",
    "    else: \n",
    "        print (\"The password you entered is incorrect, please try again.\\n\")\n",
    "        \n",
    " \n",
    "\n",
    "\n",
    "#function to obtain all of the prime numbers         \n",
    "def SieveOfEratosthenes(n): \n",
    "    \n",
    "    print(\"Prime numbers between\", 1, \"and\", 100, \"are:\\n\")\n",
    "      \n",
    "    # Create a boolean array \"prime[0..n]\" and initialize \n",
    "    # all entries it as true. A value in prime[i] will \n",
    "    # finally be false if i is Not a prime, else true. \n",
    "    prime = [True for i in range(n + 1)] \n",
    "    p = 2\n",
    "    primes = []\n",
    "    while (p * p <= n): \n",
    "          \n",
    "        # If prime[p] is not changed, then it is a prime \n",
    "        if (prime[p] == True): \n",
    "              \n",
    "            # Update all multiples of p \n",
    "            for i in range(p * 2, n + 1, p): \n",
    "                prime[i] = False\n",
    "        p += 1\n",
    "    prime[0]= False\n",
    "    prime[1]= False\n",
    "    # Print all prime numbers \n",
    "    for p in range(n + 1): \n",
    "        if prime[p]: \n",
    "            #print(\"p\",p) \n",
    "            primes.append(str(p))\n",
    "\n",
    "\n",
    "#invoking of the function with 100 as an argument as it is the range integer            \n",
    "SieveOfEratosthenes(100)\n",
    "\n",
    "       \n",
    "\n",
    "\n",
    "def printGrid (numsPerRow, primes):\n",
    "    copyL = primes[:]\n",
    "    numsInRow = 1\n",
    "    for i in range(len(primes)):\n",
    "        \n",
    "        if numsInRow % numsPerRow == 0:\n",
    "            copyL[i] = copyL[i] + \"\\n\"\n",
    "            numsInRow = 1\n",
    "        else:\n",
    "            copyL[i] = copyL[i] + \"\\t\"\n",
    "            numsInRow += 1\n",
    "    return copyL\n",
    "\n",
    "print(\"\".join(printGrid(5, primes)))\n",
    "#print (primes)\n",
    "\n",
    "#items_layout = Layout( width='auto')     # override the default width of the button to 'auto' to let the button grow\n",
    "\n",
    "#box_layout = Layout(display='flex',\n",
    "#                    flex_flow='column',\n",
    "                    #align_items='stretch',\n",
    "#                    border='solid',\n",
    "#                    width='20%')\n",
    "\n",
    "\n",
    "#items = [Button(description=number, layout=items_layout, button_style='warning') for number in primes]\n",
    "#box = Box(children=items, layout=box_layout)\n",
    "#box"
   ]
  },
  {
   "cell_type": "code",
   "execution_count": 29,
   "metadata": {},
   "outputs": [
    {
     "name": "stdout",
     "output_type": "stream",
     "text": [
      "End of document\n"
     ]
    }
   ],
   "source": [
    "print(\"End of document\")"
   ]
  },
  {
   "cell_type": "code",
   "execution_count": null,
   "metadata": {},
   "outputs": [],
   "source": []
  }
 ],
 "metadata": {
  "kernelspec": {
   "display_name": "Python 3",
   "language": "python",
   "name": "python3"
  },
  "language_info": {
   "codemirror_mode": {
    "name": "ipython",
    "version": 3
   },
   "file_extension": ".py",
   "mimetype": "text/x-python",
   "name": "python",
   "nbconvert_exporter": "python",
   "pygments_lexer": "ipython3",
   "version": "3.7.0"
  }
 },
 "nbformat": 4,
 "nbformat_minor": 2
}
