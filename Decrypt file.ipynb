{
 "cells": [
  {
   "cell_type": "code",
   "execution_count": 3,
   "metadata": {},
   "outputs": [],
   "source": [
    "from cryptography.fernet import Fernet\n",
    "\n",
    "fkey = open(\"file_key.txt\", \"rb\")\n",
    "key = fkey.read()\n",
    "cipher = Fernet(key)\n",
    "\n",
    "\n",
    "with open(\"passwords.txtencrypted\", \"rb\")as df:\n",
    "    encrypted_data = df.read()\n",
    "    \n",
    "\n",
    "#use cipher to decrypt the data by assigning it to a new variable \n",
    "decrypted_file = cipher.decrypt(encrypted_data)\n",
    "\n",
    "\n",
    "with open(\"passwords decrypted.txt\", \"wb\")as df:\n",
    "    df.write(decrypted_file)"
   ]
  },
  {
   "cell_type": "code",
   "execution_count": null,
   "metadata": {},
   "outputs": [],
   "source": []
  }
 ],
 "metadata": {
  "kernelspec": {
   "display_name": "Python 3",
   "language": "python",
   "name": "python3"
  },
  "language_info": {
   "codemirror_mode": {
    "name": "ipython",
    "version": 3
   },
   "file_extension": ".py",
   "mimetype": "text/x-python",
   "name": "python",
   "nbconvert_exporter": "python",
   "pygments_lexer": "ipython3",
   "version": "3.7.0"
  }
 },
 "nbformat": 4,
 "nbformat_minor": 4
}
